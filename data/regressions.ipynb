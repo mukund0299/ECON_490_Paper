{
 "cells": [
  {
   "cell_type": "code",
   "execution_count": 1,
   "id": "94de7d68-2b5b-4751-808e-987e2acbbbd1",
   "metadata": {},
   "outputs": [
    {
     "name": "stderr",
     "output_type": "stream",
     "text": [
      "Warning message in system(\"timedatectl\", intern = TRUE):\n",
      "“running command 'timedatectl' had status 1”\n",
      "── \u001b[1mAttaching packages\u001b[22m ─────────────────────────────────────── tidyverse 1.3.1 ──\n",
      "\n",
      "\u001b[32m✔\u001b[39m \u001b[34mggplot2\u001b[39m 3.3.5     \u001b[32m✔\u001b[39m \u001b[34mpurrr  \u001b[39m 0.3.4\n",
      "\u001b[32m✔\u001b[39m \u001b[34mtibble \u001b[39m 3.1.4     \u001b[32m✔\u001b[39m \u001b[34mdplyr  \u001b[39m 1.0.7\n",
      "\u001b[32m✔\u001b[39m \u001b[34mtidyr  \u001b[39m 1.1.3     \u001b[32m✔\u001b[39m \u001b[34mstringr\u001b[39m 1.4.0\n",
      "\u001b[32m✔\u001b[39m \u001b[34mreadr  \u001b[39m 1.4.0     \u001b[32m✔\u001b[39m \u001b[34mforcats\u001b[39m 0.5.1\n",
      "\n",
      "── \u001b[1mConflicts\u001b[22m ────────────────────────────────────────── tidyverse_conflicts() ──\n",
      "\u001b[31m✖\u001b[39m \u001b[34mdplyr\u001b[39m::\u001b[32mfilter()\u001b[39m masks \u001b[34mstats\u001b[39m::filter()\n",
      "\u001b[31m✖\u001b[39m \u001b[34mdplyr\u001b[39m::\u001b[32mlag()\u001b[39m    masks \u001b[34mstats\u001b[39m::lag()\n",
      "\n",
      "Loading required package: carData\n",
      "\n",
      "\n",
      "Attaching package: ‘car’\n",
      "\n",
      "\n",
      "The following object is masked from ‘package:dplyr’:\n",
      "\n",
      "    recode\n",
      "\n",
      "\n",
      "The following object is masked from ‘package:purrr’:\n",
      "\n",
      "    some\n",
      "\n",
      "\n",
      "Loading required package: zoo\n",
      "\n",
      "\n",
      "Attaching package: ‘zoo’\n",
      "\n",
      "\n",
      "The following objects are masked from ‘package:base’:\n",
      "\n",
      "    as.Date, as.Date.numeric\n",
      "\n",
      "\n",
      "Installing package into ‘/home/jupyter/R/x86_64-pc-linux-gnu-library/4.0’\n",
      "(as ‘lib’ is unspecified)\n",
      "\n",
      "\n",
      "Please cite as: \n",
      "\n",
      "\n",
      " Hlavac, Marek (2018). stargazer: Well-Formatted Regression and Summary Statistics Tables.\n",
      "\n",
      " R package version 5.2.2. https://CRAN.R-project.org/package=stargazer \n",
      "\n",
      "\n"
     ]
    }
   ],
   "source": [
    "#load the data and set it up\n",
    "\n",
    "library(tidyverse)\n",
    "library(haven)\n",
    "library(car)\n",
    "#library(sandwich)\n",
    "library(lmtest)\n",
    "\n",
    "install.packages(\"stargazer\")  #un-comment this and run this line if you don't have stargazer installed\n",
    "library(stargazer)\n",
    "source(\"sandwich.r\")"
   ]
  },
  {
   "cell_type": "code",
   "execution_count": 2,
   "id": "a783bfd1-b1b9-4afd-b61d-58d4b118a94e",
   "metadata": {},
   "outputs": [
    {
     "name": "stderr",
     "output_type": "stream",
     "text": [
      "Warning message:\n",
      "“Missing column names filled in: 'X1' [1]”\n",
      "\n",
      "\u001b[36m──\u001b[39m \u001b[1m\u001b[1mColumn specification\u001b[1m\u001b[22m \u001b[36m────────────────────────────────────────────────────────\u001b[39m\n",
      "cols(\n",
      "  .default = col_double(),\n",
      "  SCHOOL_YEAR = \u001b[31mcol_character()\u001b[39m,\n",
      "  SCHOOL_NAME = \u001b[31mcol_character()\u001b[39m,\n",
      "  DISTRICT_NAME = \u001b[31mcol_character()\u001b[39m,\n",
      "  PUBLIC_OR_INDEPENDENT = \u001b[31mcol_character()\u001b[39m,\n",
      "  STREET_ADDRESS = \u001b[31mcol_character()\u001b[39m,\n",
      "  PHYSICAL_ADDRESS_CITY = \u001b[31mcol_character()\u001b[39m,\n",
      "  FACILTY_TYPE = \u001b[31mcol_character()\u001b[39m,\n",
      "  SCHOOL_EDUCATION_LEVEL = \u001b[31mcol_character()\u001b[39m,\n",
      "  HAS_CORE_FRENCH = \u001b[31mcol_character()\u001b[39m,\n",
      "  HAS_EARLY_FRENCH_IMMERSION = \u001b[31mcol_character()\u001b[39m,\n",
      "  HAS_LATE_FRENCH_IMMERSION = \u001b[31mcol_character()\u001b[39m,\n",
      "  HAS_PROG_FRANCOPHONE = \u001b[31mcol_character()\u001b[39m,\n",
      "  LOCATION = \u001b[31mcol_character()\u001b[39m,\n",
      "  ENROLMENT = \u001b[31mcol_character()\u001b[39m\n",
      ")\n",
      "\u001b[36mℹ\u001b[39m Use \u001b[30m\u001b[47m\u001b[30m\u001b[47m`spec()`\u001b[47m\u001b[30m\u001b[49m\u001b[39m for the full column specifications.\n",
      "\n",
      "\n"
     ]
    },
    {
     "name": "stdout",
     "output_type": "stream",
     "text": [
      "Rows: 235\n",
      "Columns: 39\n",
      "$ X1                         \u001b[3m\u001b[90m<dbl>\u001b[39m\u001b[23m 0, 1, 2, 3, 4, 5, 6, 7, 8, 9, 10, 11, 12, 1…\n",
      "$ `Unnamed: 0`               \u001b[3m\u001b[90m<dbl>\u001b[39m\u001b[23m 4, 9, 14, 19, 24, 29, 34, 39, 44, 49, 54, 5…\n",
      "$ SCHOOL_YEAR                \u001b[3m\u001b[90m<chr>\u001b[39m\u001b[23m \"2019/2020\", \"2019/2020\", \"2019/2020\", \"201…\n",
      "$ SCHOOL_NUMBER              \u001b[3m\u001b[90m<dbl>\u001b[39m\u001b[23m 502001, 505033, 505034, 505035, 603008, 604…\n",
      "$ SCHOOL_NAME                \u001b[3m\u001b[90m<chr>\u001b[39m\u001b[23m \"Mount Baker Secondary\", \"Elkford Elementar…\n",
      "$ DISTRICT_NUMBER            \u001b[3m\u001b[90m<dbl>\u001b[39m\u001b[23m 5, 5, 5, 5, 6, 6, 6, 8, 8, 8, 19, 20, 20, 2…\n",
      "$ DISTRICT_NAME              \u001b[3m\u001b[90m<chr>\u001b[39m\u001b[23m \"Southeast Kootenay\", \"Southeast Kootenay\",…\n",
      "$ PUBLIC_OR_INDEPENDENT      \u001b[3m\u001b[90m<chr>\u001b[39m\u001b[23m \"Public\", \"Public\", \"Public\", \"Public\", \"Pu…\n",
      "$ STREET_ADDRESS             \u001b[3m\u001b[90m<chr>\u001b[39m\u001b[23m \"1410 Baker St\", \"PO Box 910\", \"PO Box 370\"…\n",
      "$ PHYSICAL_ADDRESS_CITY      \u001b[3m\u001b[90m<chr>\u001b[39m\u001b[23m \"Cranbrook\", \"Elkford\", \"Fernie\", \"Sparwood…\n",
      "$ FACILTY_TYPE               \u001b[3m\u001b[90m<chr>\u001b[39m\u001b[23m \"Standard School\", \"Standard School\", \"Stan…\n",
      "$ SCHOOL_EDUCATION_LEVEL     \u001b[3m\u001b[90m<chr>\u001b[39m\u001b[23m \"SECONDARY\", \"ELEMENTARY SECONDARY\", \"ELEME…\n",
      "$ HAS_CORE_FRENCH            \u001b[3m\u001b[90m<chr>\u001b[39m\u001b[23m \"YES\", \"YES\", \"YES\", \"YES\", \"YES\", \"YES\", \"…\n",
      "$ HAS_EARLY_FRENCH_IMMERSION \u001b[3m\u001b[90m<chr>\u001b[39m\u001b[23m \"YES\", \"NO\", \"YES\", \"NO\", \"NO\", \"NO\", \"YES\"…\n",
      "$ HAS_LATE_FRENCH_IMMERSION  \u001b[3m\u001b[90m<chr>\u001b[39m\u001b[23m \"NO\", \"NO\", \"YES\", \"NO\", \"NO\", \"NO\", \"NO\", …\n",
      "$ HAS_PROG_FRANCOPHONE       \u001b[3m\u001b[90m<chr>\u001b[39m\u001b[23m \"NO\", \"NO\", \"NO\", \"NO\", \"NO\", \"NO\", \"NO\", \"…\n",
      "$ SCHOOL_LATITUDE            \u001b[3m\u001b[90m<dbl>\u001b[39m\u001b[23m 49.51268, 50.00684, 49.51359, 49.73573, 49.…\n",
      "$ SCHOOL_LONGITUDE           \u001b[3m\u001b[90m<dbl>\u001b[39m\u001b[23m -115.7608, -114.9306, -115.0531, -114.8916,…\n",
      "$ YEAR                       \u001b[3m\u001b[90m<dbl>\u001b[39m\u001b[23m 2019, 2019, 2019, 2019, 2019, 2019, 2019, 2…\n",
      "$ LOCATION                   \u001b[3m\u001b[90m<chr>\u001b[39m\u001b[23m \"Cranbrook\", \"Elkford\", \"Fernie\", \"Sparwood…\n",
      "$ ENROLMENT                  \u001b[3m\u001b[90m<chr>\u001b[39m\u001b[23m \"Gr 12 enrolment: 257\", \"Gr 12 enrolment: 4…\n",
      "$ PERCENT_ESL                \u001b[3m\u001b[90m<dbl>\u001b[39m\u001b[23m 0.4, 2.0, 2.7, 0.8, 0.0, 0.7, 0.0, 0.1, 0.0…\n",
      "$ PERCENT_SPECIAL_NEEDS      \u001b[3m\u001b[90m<dbl>\u001b[39m\u001b[23m 14.4, 16.5, 10.2, 17.2, 10.1, 8.8, 12.9, 9.…\n",
      "$ PERCENT_FRENCH_IMM         \u001b[3m\u001b[90m<dbl>\u001b[39m\u001b[23m 6.2, 0.0, 28.5, 0.0, 0.0, 0.0, 21.3, 16.3, …\n",
      "$ AVERAGE_EXAM_MARK          \u001b[3m\u001b[90m<dbl>\u001b[39m\u001b[23m 66.4, 63.9, 67.9, 65.2, 68.3, 67.2, 69.0, 6…\n",
      "$ PERCENT_EXAMS_FAILED       \u001b[3m\u001b[90m<dbl>\u001b[39m\u001b[23m 8.8, 6.5, 4.7, 6.4, 7.4, 10.5, 4.4, 7.0, 8.…\n",
      "$ PERCENT_GRAD               \u001b[3m\u001b[90m<dbl>\u001b[39m\u001b[23m 99.6, 94.6, 100.0, 95.0, 98.4, 100.0, 97.8,…\n",
      "$ PERCENT_DELAYED            \u001b[3m\u001b[90m<dbl>\u001b[39m\u001b[23m 7.3, 10.2, 5.9, 11.3, 10.7, 16.8, 19.5, 13.…\n",
      "$ OVERALL                    \u001b[3m\u001b[90m<dbl>\u001b[39m\u001b[23m 6.7, 4.6, 5.2, 4.9, 6.3, 5.9, 5.7, 6.3, 4.2…\n",
      "$ type_Public                \u001b[3m\u001b[90m<dbl>\u001b[39m\u001b[23m 1, 1, 1, 1, 1, 1, 1, 1, 1, 1, 1, 1, 1, 1, 1…\n",
      "$ combined_25_5              \u001b[3m\u001b[90m<dbl>\u001b[39m\u001b[23m 0.038873371, 0.062500000, 0.201228153, 0.12…\n",
      "$ combined_50_10             \u001b[3m\u001b[90m<dbl>\u001b[39m\u001b[23m 0.7094972, 0.9232955, 0.6957959, 0.7951442,…\n",
      "$ combined_5_1               \u001b[3m\u001b[90m<dbl>\u001b[39m\u001b[23m 0.1301210428, 0.0056818182, 0.0869154464, 0…\n",
      "$ combined_10_2              \u001b[3m\u001b[90m<dbl>\u001b[39m\u001b[23m 0.0146648045, 0.0000000000, 0.0000000000, 0…\n",
      "$ `combined_<5_1`            \u001b[3m\u001b[90m<dbl>\u001b[39m\u001b[23m 0.0921787709, 0.0000000000, 0.0023618328, 0…\n",
      "$ prop_high_speed            \u001b[3m\u001b[90m<dbl>\u001b[39m\u001b[23m 0.7483706, 0.9857955, 0.8970241, 0.9210926,…\n",
      "$ CENSUS_ID                  \u001b[3m\u001b[90m<dbl>\u001b[39m\u001b[23m 5901022, 5901003, 5901012, 5901006, 5901028…\n",
      "$ MEDIAN_INCOME              \u001b[3m\u001b[90m<dbl>\u001b[39m\u001b[23m 67942, 110379, 90112, 103538, 67072, 74606,…\n",
      "$ LOG_MEDIAN_INCOME          \u001b[3m\u001b[90m<dbl>\u001b[39m\u001b[23m 11.12641, 11.61168, 11.40881, 11.54769, 11.…\n"
     ]
    }
   ],
   "source": [
    "data <- read_csv(\"temp.csv\")\n",
    "glimpse(data)"
   ]
  },
  {
   "cell_type": "code",
   "execution_count": 4,
   "id": "374efa13-a147-4fb0-a13f-69ea37f3ead4",
   "metadata": {},
   "outputs": [
    {
     "data": {
      "text/plain": [
       "\n",
       "Call:\n",
       "lm(formula = AVERAGE_EXAM_MARK ~ LOG_MEDIAN_INCOME + type_Public + \n",
       "    PERCENT_ESL + PERCENT_SPECIAL_NEEDS + combined_25_5 + combined_50_10 + \n",
       "    combined_5_1 + combined_10_2, data = data)\n",
       "\n",
       "Residuals:\n",
       "     Min       1Q   Median       3Q      Max \n",
       "-10.5937  -1.9503  -0.1729   1.9664  10.8972 \n",
       "\n",
       "Coefficients:\n",
       "                       Estimate Std. Error t value Pr(>|t|)    \n",
       "(Intercept)           100.50117   15.11583   6.649 2.19e-10 ***\n",
       "LOG_MEDIAN_INCOME      -2.49656    1.37566  -1.815   0.0709 .  \n",
       "type_Public            -5.27443    0.74600  -7.070 1.91e-11 ***\n",
       "PERCENT_ESL            -0.13166    0.05703  -2.309   0.0219 *  \n",
       "PERCENT_SPECIAL_NEEDS  -0.31525    0.05915  -5.329 2.38e-07 ***\n",
       "combined_25_5           1.46629    6.12324   0.239   0.8110    \n",
       "combined_50_10          5.70033    4.20368   1.356   0.1764    \n",
       "combined_5_1            4.47413    6.52283   0.686   0.4935    \n",
       "combined_10_2          -0.99317    7.54238  -0.132   0.8954    \n",
       "---\n",
       "Signif. codes:  0 ‘***’ 0.001 ‘**’ 0.01 ‘*’ 0.05 ‘.’ 0.1 ‘ ’ 1\n",
       "\n",
       "Residual standard error: 3.459 on 226 degrees of freedom\n",
       "Multiple R-squared:  0.5063,\tAdjusted R-squared:  0.4888 \n",
       "F-statistic: 28.97 on 8 and 226 DF,  p-value: < 2.2e-16\n"
      ]
     },
     "metadata": {},
     "output_type": "display_data"
    },
    {
     "data": {
      "text/html": [
       "<style>\n",
       ".dl-inline {width: auto; margin:0; padding: 0}\n",
       ".dl-inline>dt, .dl-inline>dd {float: none; width: auto; display: inline-block}\n",
       ".dl-inline>dt::after {content: \":\\0020\"; padding-right: .5ex}\n",
       ".dl-inline>dt:not(:first-of-type) {padding-left: .5ex}\n",
       "</style><dl class=dl-inline><dt>LOG_MEDIAN_INCOME</dt><dd>1.14001821195067</dd><dt>type_Public</dt><dd>1.45003072633923</dd><dt>PERCENT_ESL</dt><dd>1.16677209712899</dd><dt>PERCENT_SPECIAL_NEEDS</dt><dd>1.56354851637253</dd><dt>combined_25_5</dt><dd>7.13272399109425</dd><dt>combined_50_10</dt><dd>12.7201205102359</dd><dt>combined_5_1</dt><dd>2.72029212764217</dd><dt>combined_10_2</dt><dd>1.82189782989715</dd></dl>\n"
      ],
      "text/latex": [
       "\\begin{description*}\n",
       "\\item[LOG\\textbackslash{}\\_MEDIAN\\textbackslash{}\\_INCOME] 1.14001821195067\n",
       "\\item[type\\textbackslash{}\\_Public] 1.45003072633923\n",
       "\\item[PERCENT\\textbackslash{}\\_ESL] 1.16677209712899\n",
       "\\item[PERCENT\\textbackslash{}\\_SPECIAL\\textbackslash{}\\_NEEDS] 1.56354851637253\n",
       "\\item[combined\\textbackslash{}\\_25\\textbackslash{}\\_5] 7.13272399109425\n",
       "\\item[combined\\textbackslash{}\\_50\\textbackslash{}\\_10] 12.7201205102359\n",
       "\\item[combined\\textbackslash{}\\_5\\textbackslash{}\\_1] 2.72029212764217\n",
       "\\item[combined\\textbackslash{}\\_10\\textbackslash{}\\_2] 1.82189782989715\n",
       "\\end{description*}\n"
      ],
      "text/markdown": [
       "LOG_MEDIAN_INCOME\n",
       ":   1.14001821195067type_Public\n",
       ":   1.45003072633923PERCENT_ESL\n",
       ":   1.16677209712899PERCENT_SPECIAL_NEEDS\n",
       ":   1.56354851637253combined_25_5\n",
       ":   7.13272399109425combined_50_10\n",
       ":   12.7201205102359combined_5_1\n",
       ":   2.72029212764217combined_10_2\n",
       ":   1.82189782989715\n",
       "\n"
      ],
      "text/plain": [
       "    LOG_MEDIAN_INCOME           type_Public           PERCENT_ESL \n",
       "             1.140018              1.450031              1.166772 \n",
       "PERCENT_SPECIAL_NEEDS         combined_25_5        combined_50_10 \n",
       "             1.563549              7.132724             12.720121 \n",
       "         combined_5_1         combined_10_2 \n",
       "             2.720292              1.821898 "
      ]
     },
     "metadata": {},
     "output_type": "display_data"
    }
   ],
   "source": [
    "my_model_1 <- lm(data = data, AVERAGE_EXAM_MARK ~ LOG_MEDIAN_INCOME + type_Public + PERCENT_ESL + PERCENT_SPECIAL_NEEDS + combined_25_5 + combined_50_10 + combined_5_1 + combined_10_2)\n",
    "summary(my_model_1)\n",
    "vif(my_model_1)"
   ]
  },
  {
   "cell_type": "code",
   "execution_count": 6,
   "id": "80731cea-a8da-41bf-be1c-a8e704a8473e",
   "metadata": {},
   "outputs": [
    {
     "data": {
      "text/plain": [
       "\n",
       "Call:\n",
       "lm(formula = resid_sq ~ LOG_MEDIAN_INCOME + type_Public + PERCENT_ESL + \n",
       "    PERCENT_SPECIAL_NEEDS + combined_25_5 + combined_50_10 + \n",
       "    combined_5_1 + combined_10_2, data = data)\n",
       "\n",
       "Residuals:\n",
       "    Min      1Q  Median      3Q     Max \n",
       "-30.114  -7.840  -3.767   3.589  90.270 \n",
       "\n",
       "Coefficients:\n",
       "                      Estimate Std. Error t value Pr(>|t|)    \n",
       "(Intercept)           -35.6175    75.8075  -0.470  0.63892    \n",
       "LOG_MEDIAN_INCOME      10.2264     6.8991   1.482  0.13966    \n",
       "type_Public           -20.2818     3.7413  -5.421 1.52e-07 ***\n",
       "PERCENT_ESL             0.2184     0.2860   0.764  0.44596    \n",
       "PERCENT_SPECIAL_NEEDS   0.3480     0.2967   1.173  0.24203    \n",
       "combined_25_5         -70.9134    30.7087  -2.309  0.02183 *  \n",
       "combined_50_10        -57.2957    21.0819  -2.718  0.00708 ** \n",
       "combined_5_1          -16.2940    32.7127  -0.498  0.61890    \n",
       "combined_10_2         -70.3271    37.8258  -1.859  0.06429 .  \n",
       "---\n",
       "Signif. codes:  0 ‘***’ 0.001 ‘**’ 0.01 ‘*’ 0.05 ‘.’ 0.1 ‘ ’ 1\n",
       "\n",
       "Residual standard error: 17.35 on 226 degrees of freedom\n",
       "Multiple R-squared:  0.1665,\tAdjusted R-squared:  0.137 \n",
       "F-statistic: 5.641 on 8 and 226 DF,  p-value: 1.552e-06\n"
      ]
     },
     "metadata": {},
     "output_type": "display_data"
    }
   ],
   "source": [
    "data$resid_sq <- (my_model_1$residuals)^2\n",
    "regression3 <- lm(resid_sq ~ LOG_MEDIAN_INCOME + type_Public + PERCENT_ESL + PERCENT_SPECIAL_NEEDS + combined_25_5 + combined_50_10 + combined_5_1 + combined_10_2, data = data)\n",
    "summary(regression3)"
   ]
  },
  {
   "cell_type": "code",
   "execution_count": 7,
   "id": "21f4f0e4-d853-4d81-8d09-00d992acb2ef",
   "metadata": {},
   "outputs": [
    {
     "data": {
      "text/plain": [
       "\n",
       "t test of coefficients:\n",
       "\n",
       "                        Estimate Std. Error t value  Pr(>|t|)    \n",
       "(Intercept)           100.501167  13.850939  7.2559 6.329e-12 ***\n",
       "LOG_MEDIAN_INCOME      -2.496556   1.386364 -1.8008   0.07307 .  \n",
       "type_Public            -5.274433   0.947330 -5.5677 7.290e-08 ***\n",
       "PERCENT_ESL            -0.131657   0.057268 -2.2990   0.02242 *  \n",
       "PERCENT_SPECIAL_NEEDS  -0.315248   0.064545 -4.8841 1.966e-06 ***\n",
       "combined_25_5           1.466289   6.666500  0.2199   0.82611    \n",
       "combined_50_10          5.700328   4.693982  1.2144   0.22587    \n",
       "combined_5_1            4.474131   6.402568  0.6988   0.48539    \n",
       "combined_10_2          -0.993169   7.085930 -0.1402   0.88866    \n",
       "---\n",
       "Signif. codes:  0 ‘***’ 0.001 ‘**’ 0.01 ‘*’ 0.05 ‘.’ 0.1 ‘ ’ 1\n"
      ]
     },
     "metadata": {},
     "output_type": "display_data"
    }
   ],
   "source": [
    "coeftest(my_model_1, vcov = vcovHC(my_model_1, type = \"HC1\"))"
   ]
  },
  {
   "cell_type": "code",
   "execution_count": 9,
   "id": "ebd42365-192c-40fb-aa98-17b664741026",
   "metadata": {},
   "outputs": [
    {
     "data": {
      "text/plain": [
       "\n",
       "Call:\n",
       "lm(formula = AVERAGE_EXAM_MARK ~ combined_25_5 + combined_50_10 + \n",
       "    combined_5_1 + combined_10_2, data = data)\n",
       "\n",
       "Residuals:\n",
       "     Min       1Q   Median       3Q      Max \n",
       "-11.4944  -2.9195  -0.5195   2.3086  15.3005 \n",
       "\n",
       "Coefficients:\n",
       "               Estimate Std. Error t value Pr(>|t|)    \n",
       "(Intercept)      58.952      5.298  11.126   <2e-16 ***\n",
       "combined_25_5     4.891      7.995   0.612   0.5413    \n",
       "combined_50_10   11.167      5.365   2.081   0.0385 *  \n",
       "combined_5_1      4.000      8.509   0.470   0.6387    \n",
       "combined_10_2    -1.513      9.936  -0.152   0.8791    \n",
       "---\n",
       "Signif. codes:  0 ‘***’ 0.001 ‘**’ 0.01 ‘*’ 0.05 ‘.’ 0.1 ‘ ’ 1\n",
       "\n",
       "Residual standard error: 4.589 on 230 degrees of freedom\n",
       "Multiple R-squared:  0.1156,\tAdjusted R-squared:  0.1003 \n",
       "F-statistic: 7.519 on 4 and 230 DF,  p-value: 1.041e-05\n"
      ]
     },
     "metadata": {},
     "output_type": "display_data"
    },
    {
     "data": {
      "text/plain": [
       "\n",
       "t test of coefficients:\n",
       "\n",
       "               Estimate Std. Error t value Pr(>|t|)    \n",
       "(Intercept)     58.9525     4.8012 12.2787  < 2e-16 ***\n",
       "combined_25_5    4.8911     7.1086  0.6881  0.49211    \n",
       "combined_50_10  11.1670     4.8732  2.2915  0.02284 *  \n",
       "combined_5_1     3.9999     7.5384  0.5306  0.59621    \n",
       "combined_10_2   -1.5131     7.1977 -0.2102  0.83368    \n",
       "---\n",
       "Signif. codes:  0 ‘***’ 0.001 ‘**’ 0.01 ‘*’ 0.05 ‘.’ 0.1 ‘ ’ 1\n"
      ]
     },
     "metadata": {},
     "output_type": "display_data"
    }
   ],
   "source": [
    "model_bandwidth <- lm(data = data, AVERAGE_EXAM_MARK ~ combined_25_5 + combined_50_10 + combined_5_1 + combined_10_2)\n",
    "summary(model_bandwidth)\n",
    "coeftest(model_bandwidth, vcov = vcovHC(model_bandwidth, type = \"HC1\"))"
   ]
  },
  {
   "cell_type": "code",
   "execution_count": 11,
   "id": "12577772-d681-4deb-9a74-f238daee4043",
   "metadata": {},
   "outputs": [
    {
     "data": {
      "text/plain": [
       "\n",
       "Call:\n",
       "lm(formula = AVERAGE_EXAM_MARK ~ combined_25_5 + combined_50_10 + \n",
       "    combined_5_1 + combined_10_2 + type_Public, data = data)\n",
       "\n",
       "Residuals:\n",
       "     Min       1Q   Median       3Q      Max \n",
       "-11.9434  -2.2873  -0.0352   2.5241   9.4931 \n",
       "\n",
       "Coefficients:\n",
       "               Estimate Std. Error t value Pr(>|t|)    \n",
       "(Intercept)     69.3310     4.3830  15.818   <2e-16 ***\n",
       "combined_25_5    1.3346     6.4696   0.206    0.837    \n",
       "combined_50_10   6.7959     4.3539   1.561    0.120    \n",
       "combined_5_1     3.8855     6.8768   0.565    0.573    \n",
       "combined_10_2   -0.8438     8.0304  -0.105    0.916    \n",
       "type_Public     -7.5346     0.6790 -11.097   <2e-16 ***\n",
       "---\n",
       "Signif. codes:  0 ‘***’ 0.001 ‘**’ 0.01 ‘*’ 0.05 ‘.’ 0.1 ‘ ’ 1\n",
       "\n",
       "Residual standard error: 3.709 on 229 degrees of freedom\n",
       "Multiple R-squared:  0.4249,\tAdjusted R-squared:  0.4123 \n",
       "F-statistic: 33.84 on 5 and 229 DF,  p-value: < 2.2e-16\n"
      ]
     },
     "metadata": {},
     "output_type": "display_data"
    },
    {
     "data": {
      "text/plain": [
       "\n",
       "t test of coefficients:\n",
       "\n",
       "               Estimate Std. Error t value  Pr(>|t|)    \n",
       "(Intercept)    69.33102    4.63309 14.9643 < 2.2e-16 ***\n",
       "combined_25_5   1.33465    6.71190  0.1988    0.8426    \n",
       "combined_50_10  6.79593    4.58568  1.4820    0.1397    \n",
       "combined_5_1    3.88551    7.38633  0.5260    0.5994    \n",
       "combined_10_2  -0.84376    7.23631 -0.1166    0.9073    \n",
       "type_Public    -7.53465    0.89837 -8.3870 5.131e-15 ***\n",
       "---\n",
       "Signif. codes:  0 ‘***’ 0.001 ‘**’ 0.01 ‘*’ 0.05 ‘.’ 0.1 ‘ ’ 1\n"
      ]
     },
     "metadata": {},
     "output_type": "display_data"
    }
   ],
   "source": [
    "model_bandwidth_public <- lm(data = data, AVERAGE_EXAM_MARK ~ combined_25_5 + combined_50_10 + combined_5_1 + combined_10_2 + type_Public)\n",
    "summary(model_bandwidth_public)\n",
    "coeftest(model_bandwidth_public, vcov = vcovHC(model_bandwidth_public, type = \"HC1\"))"
   ]
  },
  {
   "cell_type": "code",
   "execution_count": 12,
   "id": "741ca9fb-335f-432f-b5c8-c01a611328e6",
   "metadata": {},
   "outputs": [
    {
     "data": {
      "text/plain": [
       "\n",
       "Call:\n",
       "lm(formula = AVERAGE_EXAM_MARK ~ combined_25_5 + combined_50_10 + \n",
       "    combined_5_1 + combined_10_2 + type_Public + LOG_MEDIAN_INCOME, \n",
       "    data = data)\n",
       "\n",
       "Residuals:\n",
       "     Min       1Q   Median       3Q      Max \n",
       "-12.2806  -2.2338  -0.0483   2.4158  10.1365 \n",
       "\n",
       "Coefficients:\n",
       "                  Estimate Std. Error t value Pr(>|t|)    \n",
       "(Intercept)        98.4438    16.0869   6.119 4.05e-09 ***\n",
       "combined_25_5       3.3172     6.5199   0.509   0.6114    \n",
       "combined_50_10      8.4281     4.4162   1.908   0.0576 .  \n",
       "combined_5_1        6.1371     6.9431   0.884   0.3777    \n",
       "combined_10_2      -2.1189     8.0151  -0.264   0.7917    \n",
       "type_Public        -7.5284     0.6753 -11.148  < 2e-16 ***\n",
       "LOG_MEDIAN_INCOME  -2.7435     1.4593  -1.880   0.0614 .  \n",
       "---\n",
       "Signif. codes:  0 ‘***’ 0.001 ‘**’ 0.01 ‘*’ 0.05 ‘.’ 0.1 ‘ ’ 1\n",
       "\n",
       "Residual standard error: 3.688 on 228 degrees of freedom\n",
       "Multiple R-squared:  0.4337,\tAdjusted R-squared:  0.4188 \n",
       "F-statistic:  29.1 on 6 and 228 DF,  p-value: < 2.2e-16\n"
      ]
     },
     "metadata": {},
     "output_type": "display_data"
    },
    {
     "data": {
      "text/plain": [
       "\n",
       "t test of coefficients:\n",
       "\n",
       "                  Estimate Std. Error t value  Pr(>|t|)    \n",
       "(Intercept)       98.44377   15.06434  6.5349 4.111e-10 ***\n",
       "combined_25_5      3.31723    7.07784  0.4687   0.63975    \n",
       "combined_50_10     8.42807    4.93593  1.7075   0.08909 .  \n",
       "combined_5_1       6.13706    7.86079  0.7807   0.43578    \n",
       "combined_10_2     -2.11893    6.79179 -0.3120   0.75534    \n",
       "type_Public       -7.52840    0.88882 -8.4701 3.036e-15 ***\n",
       "LOG_MEDIAN_INCOME -2.74352    1.41678 -1.9364   0.05405 .  \n",
       "---\n",
       "Signif. codes:  0 ‘***’ 0.001 ‘**’ 0.01 ‘*’ 0.05 ‘.’ 0.1 ‘ ’ 1\n"
      ]
     },
     "metadata": {},
     "output_type": "display_data"
    }
   ],
   "source": [
    "model_bandwidth_public_income <- lm(data = data, AVERAGE_EXAM_MARK ~ combined_25_5 + combined_50_10 + combined_5_1 + combined_10_2 + type_Public + LOG_MEDIAN_INCOME)\n",
    "summary(model_bandwidth_public_income)\n",
    "coeftest(model_bandwidth_public_income, vcov = vcovHC(model_bandwidth_public_income, type = \"HC1\"))"
   ]
  },
  {
   "cell_type": "code",
   "execution_count": 16,
   "id": "1d14edff-1c3c-42e9-b8d4-5c028a9de3e1",
   "metadata": {},
   "outputs": [
    {
     "data": {
      "text/plain": [
       "\n",
       "Call:\n",
       "lm(formula = AVERAGE_EXAM_MARK ~ prop_high_speed + type_Public + \n",
       "    LOG_MEDIAN_INCOME + PERCENT_ESL + PERCENT_SPECIAL_NEEDS, \n",
       "    data = data)\n",
       "\n",
       "Residuals:\n",
       "     Min       1Q   Median       3Q      Max \n",
       "-10.5154  -1.9020  -0.2751   2.1686  11.5149 \n",
       "\n",
       "Coefficients:\n",
       "                      Estimate Std. Error t value Pr(>|t|)    \n",
       "(Intercept)           96.61172   14.54413   6.643 2.22e-10 ***\n",
       "prop_high_speed        5.98899    2.22062   2.697  0.00752 ** \n",
       "type_Public           -5.25913    0.74656  -7.044 2.16e-11 ***\n",
       "LOG_MEDIAN_INCOME     -2.16887    1.32675  -1.635  0.10348    \n",
       "PERCENT_ESL           -0.11543    0.05633  -2.049  0.04158 *  \n",
       "PERCENT_SPECIAL_NEEDS -0.33296    0.05837  -5.705 3.58e-08 ***\n",
       "---\n",
       "Signif. codes:  0 ‘***’ 0.001 ‘**’ 0.01 ‘*’ 0.05 ‘.’ 0.1 ‘ ’ 1\n",
       "\n",
       "Residual standard error: 3.462 on 229 degrees of freedom\n",
       "Multiple R-squared:  0.4987,\tAdjusted R-squared:  0.4878 \n",
       "F-statistic: 45.57 on 5 and 229 DF,  p-value: < 2.2e-16\n"
      ]
     },
     "metadata": {},
     "output_type": "display_data"
    },
    {
     "data": {
      "text/html": [
       "<style>\n",
       ".dl-inline {width: auto; margin:0; padding: 0}\n",
       ".dl-inline>dt, .dl-inline>dd {float: none; width: auto; display: inline-block}\n",
       ".dl-inline>dt::after {content: \":\\0020\"; padding-right: .5ex}\n",
       ".dl-inline>dt:not(:first-of-type) {padding-left: .5ex}\n",
       "</style><dl class=dl-inline><dt>prop_high_speed</dt><dd>1.30832070644998</dd><dt>type_Public</dt><dd>1.44933231188998</dd><dt>LOG_MEDIAN_INCOME</dt><dd>1.05829503278248</dd><dt>PERCENT_ESL</dt><dd>1.13612426701685</dd><dt>PERCENT_SPECIAL_NEEDS</dt><dd>1.51930108830254</dd></dl>\n"
      ],
      "text/latex": [
       "\\begin{description*}\n",
       "\\item[prop\\textbackslash{}\\_high\\textbackslash{}\\_speed] 1.30832070644998\n",
       "\\item[type\\textbackslash{}\\_Public] 1.44933231188998\n",
       "\\item[LOG\\textbackslash{}\\_MEDIAN\\textbackslash{}\\_INCOME] 1.05829503278248\n",
       "\\item[PERCENT\\textbackslash{}\\_ESL] 1.13612426701685\n",
       "\\item[PERCENT\\textbackslash{}\\_SPECIAL\\textbackslash{}\\_NEEDS] 1.51930108830254\n",
       "\\end{description*}\n"
      ],
      "text/markdown": [
       "prop_high_speed\n",
       ":   1.30832070644998type_Public\n",
       ":   1.44933231188998LOG_MEDIAN_INCOME\n",
       ":   1.05829503278248PERCENT_ESL\n",
       ":   1.13612426701685PERCENT_SPECIAL_NEEDS\n",
       ":   1.51930108830254\n",
       "\n"
      ],
      "text/plain": [
       "      prop_high_speed           type_Public     LOG_MEDIAN_INCOME \n",
       "             1.308321              1.449332              1.058295 \n",
       "          PERCENT_ESL PERCENT_SPECIAL_NEEDS \n",
       "             1.136124              1.519301 "
      ]
     },
     "metadata": {},
     "output_type": "display_data"
    }
   ],
   "source": [
    "model_prop_high_speed<- lm(data = data, AVERAGE_EXAM_MARK ~ prop_high_speed + type_Public + LOG_MEDIAN_INCOME + PERCENT_ESL + PERCENT_SPECIAL_NEEDS)\n",
    "summary(model_prop_high_speed)\n",
    "vif(model_prop_high_speed)"
   ]
  },
  {
   "cell_type": "code",
   "execution_count": 17,
   "id": "dfc39088-8df7-4c92-a10b-43d61ddbdf66",
   "metadata": {},
   "outputs": [
    {
     "data": {
      "text/plain": [
       "\n",
       "Call:\n",
       "lm(formula = resid_sq ~ LOG_MEDIAN_INCOME + type_Public + PERCENT_ESL + \n",
       "    PERCENT_SPECIAL_NEEDS + prop_high_speed, data = data)\n",
       "\n",
       "Residuals:\n",
       "    Min      1Q  Median      3Q     Max \n",
       "-26.502  -9.254  -3.717   4.112 106.851 \n",
       "\n",
       "Coefficients:\n",
       "                       Estimate Std. Error t value Pr(>|t|)    \n",
       "(Intercept)           -110.9981    75.6071  -1.468 0.143451    \n",
       "LOG_MEDIAN_INCOME       15.7519     6.8970   2.284 0.023296 *  \n",
       "type_Public            -20.1352     3.8810  -5.188 4.67e-07 ***\n",
       "PERCENT_ESL              0.3073     0.2928   1.050 0.295049    \n",
       "PERCENT_SPECIAL_NEEDS    0.1689     0.3034   0.557 0.578385    \n",
       "prop_high_speed        -42.5310    11.5438  -3.684 0.000286 ***\n",
       "---\n",
       "Signif. codes:  0 ‘***’ 0.001 ‘**’ 0.01 ‘*’ 0.05 ‘.’ 0.1 ‘ ’ 1\n",
       "\n",
       "Residual standard error: 18 on 229 degrees of freedom\n",
       "Multiple R-squared:  0.1571,\tAdjusted R-squared:  0.1387 \n",
       "F-statistic: 8.535 on 5 and 229 DF,  p-value: 1.987e-07\n"
      ]
     },
     "metadata": {},
     "output_type": "display_data"
    }
   ],
   "source": [
    "data$resid_sq <- (model_prop_high_speed$residuals)^2\n",
    "regression3 <- lm(resid_sq ~ LOG_MEDIAN_INCOME + type_Public + PERCENT_ESL + PERCENT_SPECIAL_NEEDS + prop_high_speed, data = data)\n",
    "summary(regression3)"
   ]
  },
  {
   "cell_type": "code",
   "execution_count": 19,
   "id": "3137b6a7-1020-4c58-8b90-23b9fd2223da",
   "metadata": {},
   "outputs": [
    {
     "data": {
      "text/plain": [
       "\n",
       "Call:\n",
       "lm(formula = AVERAGE_EXAM_MARK ~ prop_high_speed, data = data)\n",
       "\n",
       "Residuals:\n",
       "     Min       1Q   Median       3Q      Max \n",
       "-10.0951  -2.9640  -0.4562   2.3475  15.3698 \n",
       "\n",
       "Coefficients:\n",
       "                Estimate Std. Error t value Pr(>|t|)    \n",
       "(Intercept)       56.845      2.419  23.504  < 2e-16 ***\n",
       "prop_high_speed   13.211      2.577   5.127  6.2e-07 ***\n",
       "---\n",
       "Signif. codes:  0 ‘***’ 0.001 ‘**’ 0.01 ‘*’ 0.05 ‘.’ 0.1 ‘ ’ 1\n",
       "\n",
       "Residual standard error: 4.596 on 233 degrees of freedom\n",
       "Multiple R-squared:  0.1014,\tAdjusted R-squared:  0.09751 \n",
       "F-statistic: 26.28 on 1 and 233 DF,  p-value: 6.198e-07\n"
      ]
     },
     "metadata": {},
     "output_type": "display_data"
    },
    {
     "data": {
      "text/plain": [
       "\n",
       "t test of coefficients:\n",
       "\n",
       "                Estimate Std. Error t value  Pr(>|t|)    \n",
       "(Intercept)      56.8449     2.5407 22.3737 < 2.2e-16 ***\n",
       "prop_high_speed  13.2113     2.7232  4.8513 2.245e-06 ***\n",
       "---\n",
       "Signif. codes:  0 ‘***’ 0.001 ‘**’ 0.01 ‘*’ 0.05 ‘.’ 0.1 ‘ ’ 1\n"
      ]
     },
     "metadata": {},
     "output_type": "display_data"
    }
   ],
   "source": [
    "model_high_speed = lm(data = data, AVERAGE_EXAM_MARK ~ prop_high_speed)\n",
    "summary(model_high_speed)\n",
    "coeftest(model_high_speed, vcov = vcovHC(model_high_speed, type = \"HC1\"))"
   ]
  },
  {
   "cell_type": "code",
   "execution_count": 21,
   "id": "36c288c2-bcc7-4a2f-9b5a-2f20b17ca799",
   "metadata": {},
   "outputs": [
    {
     "data": {
      "text/plain": [
       "\n",
       "Call:\n",
       "lm(formula = AVERAGE_EXAM_MARK ~ prop_high_speed + type_Public, \n",
       "    data = data)\n",
       "\n",
       "Residuals:\n",
       "     Min       1Q   Median       3Q      Max \n",
       "-10.6940  -2.3501  -0.0923   2.5703  10.4800 \n",
       "\n",
       "Coefficients:\n",
       "                Estimate Std. Error t value Pr(>|t|)    \n",
       "(Intercept)      67.7653     2.1899  30.945  < 2e-16 ***\n",
       "prop_high_speed   8.3354     2.1312   3.911 0.000121 ***\n",
       "type_Public      -7.5718     0.6808 -11.123  < 2e-16 ***\n",
       "---\n",
       "Signif. codes:  0 ‘***’ 0.001 ‘**’ 0.01 ‘*’ 0.05 ‘.’ 0.1 ‘ ’ 1\n",
       "\n",
       "Residual standard error: 3.72 on 232 degrees of freedom\n",
       "Multiple R-squared:  0.4139,\tAdjusted R-squared:  0.4088 \n",
       "F-statistic: 81.92 on 2 and 232 DF,  p-value: < 2.2e-16\n"
      ]
     },
     "metadata": {},
     "output_type": "display_data"
    },
    {
     "data": {
      "text/plain": [
       "\n",
       "t test of coefficients:\n",
       "\n",
       "                Estimate Std. Error t value  Pr(>|t|)    \n",
       "(Intercept)     67.76532    2.65281 25.5447 < 2.2e-16 ***\n",
       "prop_high_speed  8.33536    2.55533  3.2620  0.001273 ** \n",
       "type_Public     -7.57183    0.89466 -8.4634  2.96e-15 ***\n",
       "---\n",
       "Signif. codes:  0 ‘***’ 0.001 ‘**’ 0.01 ‘*’ 0.05 ‘.’ 0.1 ‘ ’ 1\n"
      ]
     },
     "metadata": {},
     "output_type": "display_data"
    }
   ],
   "source": [
    "model_high_speed_public = lm(data = data, AVERAGE_EXAM_MARK ~ prop_high_speed + type_Public)\n",
    "summary(model_high_speed_public)\n",
    "coeftest(model_high_speed_public, vcov = vcovHC(model_high_speed_public, type = \"HC1\"))"
   ]
  },
  {
   "cell_type": "code",
   "execution_count": 22,
   "id": "3c6a5738-fbc0-4174-8132-4ccec609a98d",
   "metadata": {},
   "outputs": [
    {
     "data": {
      "text/plain": [
       "\n",
       "Call:\n",
       "lm(formula = AVERAGE_EXAM_MARK ~ prop_high_speed + type_Public + \n",
       "    LOG_MEDIAN_INCOME, data = data)\n",
       "\n",
       "Residuals:\n",
       "     Min       1Q   Median       3Q      Max \n",
       "-10.6023  -2.2457  -0.1221   2.4281  11.0764 \n",
       "\n",
       "Coefficients:\n",
       "                  Estimate Std. Error t value Pr(>|t|)    \n",
       "(Intercept)        92.9450    15.5524   5.976 8.58e-09 ***\n",
       "prop_high_speed     9.1185     2.1769   4.189 3.99e-05 ***\n",
       "type_Public        -7.5687     0.6783 -11.158  < 2e-16 ***\n",
       "LOG_MEDIAN_INCOME  -2.3163     1.4166  -1.635    0.103    \n",
       "---\n",
       "Signif. codes:  0 ‘***’ 0.001 ‘**’ 0.01 ‘*’ 0.05 ‘.’ 0.1 ‘ ’ 1\n",
       "\n",
       "Residual standard error: 3.706 on 231 degrees of freedom\n",
       "Multiple R-squared:  0.4206,\tAdjusted R-squared:  0.4131 \n",
       "F-statistic:  55.9 on 3 and 231 DF,  p-value: < 2.2e-16\n"
      ]
     },
     "metadata": {},
     "output_type": "display_data"
    },
    {
     "data": {
      "text/plain": [
       "\n",
       "t test of coefficients:\n",
       "\n",
       "                  Estimate Std. Error t value  Pr(>|t|)    \n",
       "(Intercept)       92.94499   14.46546  6.4253 7.438e-10 ***\n",
       "prop_high_speed    9.11846    2.75994  3.3039  0.001105 ** \n",
       "type_Public       -7.56874    0.88646 -8.5381 1.844e-15 ***\n",
       "LOG_MEDIAN_INCOME -2.31635    1.37542 -1.6841  0.093514 .  \n",
       "---\n",
       "Signif. codes:  0 ‘***’ 0.001 ‘**’ 0.01 ‘*’ 0.05 ‘.’ 0.1 ‘ ’ 1\n"
      ]
     },
     "metadata": {},
     "output_type": "display_data"
    }
   ],
   "source": [
    "model_high_speed_public_income = lm(data = data, AVERAGE_EXAM_MARK ~ prop_high_speed + type_Public + LOG_MEDIAN_INCOME)\n",
    "summary(model_high_speed_public_income)\n",
    "coeftest(model_high_speed_public_income, vcov = vcovHC(model_high_speed_public_income, type = \"HC1\"))"
   ]
  },
  {
   "cell_type": "code",
   "execution_count": 23,
   "id": "cb2bf495-0bc0-4b08-8dc2-eaf512bc7ba1",
   "metadata": {},
   "outputs": [
    {
     "data": {
      "text/plain": [
       "\n",
       "t test of coefficients:\n",
       "\n",
       "                       Estimate Std. Error t value  Pr(>|t|)    \n",
       "(Intercept)           96.611724  13.937092  6.9320 4.181e-11 ***\n",
       "prop_high_speed        5.988986   2.984493  2.0067   0.04596 *  \n",
       "type_Public           -5.259132   0.946128 -5.5586 7.538e-08 ***\n",
       "LOG_MEDIAN_INCOME     -2.168867   1.379844 -1.5718   0.11737    \n",
       "PERCENT_ESL           -0.115430   0.059829 -1.9293   0.05493 .  \n",
       "PERCENT_SPECIAL_NEEDS -0.332960   0.061431 -5.4200 1.507e-07 ***\n",
       "---\n",
       "Signif. codes:  0 ‘***’ 0.001 ‘**’ 0.01 ‘*’ 0.05 ‘.’ 0.1 ‘ ’ 1\n"
      ]
     },
     "metadata": {},
     "output_type": "display_data"
    }
   ],
   "source": [
    "coeftest(model_prop_high_speed, vcov = vcovHC(model_prop_high_speed, type = \"HC1\"))"
   ]
  },
  {
   "cell_type": "code",
   "execution_count": 25,
   "id": "7ac9e71e-c7fa-48dc-bef7-7b98b5dbe485",
   "metadata": {},
   "outputs": [
    {
     "name": "stderr",
     "output_type": "stream",
     "text": [
      "Warning message:\n",
      "“Missing column names filled in: 'X1' [1]”\n",
      "\n",
      "\u001b[36m──\u001b[39m \u001b[1m\u001b[1mColumn specification\u001b[1m\u001b[22m \u001b[36m────────────────────────────────────────────────────────\u001b[39m\n",
      "cols(\n",
      "  .default = col_character(),\n",
      "  X1 = \u001b[32mcol_double()\u001b[39m,\n",
      "  SCHOOL_NUMBER = \u001b[32mcol_double()\u001b[39m,\n",
      "  DISTRICT_NUMBER = \u001b[32mcol_double()\u001b[39m,\n",
      "  GRADE = \u001b[32mcol_double()\u001b[39m,\n",
      "  NUMBER_OF_MARKS = \u001b[32mcol_double()\u001b[39m,\n",
      "  AVERAGE_PERCENT = \u001b[32mcol_double()\u001b[39m,\n",
      "  SUM_OF_MARKS = \u001b[32mcol_double()\u001b[39m,\n",
      "  SCHOOL_LATITUDE = \u001b[32mcol_double()\u001b[39m,\n",
      "  SCHOOL_LONGITUDE = \u001b[32mcol_double()\u001b[39m,\n",
      "  `type_BC Public School` = \u001b[32mcol_double()\u001b[39m,\n",
      "  combined_25_5 = \u001b[32mcol_double()\u001b[39m,\n",
      "  combined_50_10 = \u001b[32mcol_double()\u001b[39m,\n",
      "  combined_5_1 = \u001b[32mcol_double()\u001b[39m,\n",
      "  combined_10_2 = \u001b[32mcol_double()\u001b[39m,\n",
      "  `combined_<5_1` = \u001b[32mcol_double()\u001b[39m,\n",
      "  prop_high_speed = \u001b[32mcol_double()\u001b[39m,\n",
      "  CENSUS_ID = \u001b[32mcol_double()\u001b[39m,\n",
      "  MEDIAN_INCOME = \u001b[32mcol_double()\u001b[39m,\n",
      "  LOG_MEDIAN_INCOME = \u001b[32mcol_double()\u001b[39m\n",
      ")\n",
      "\u001b[36mℹ\u001b[39m Use \u001b[30m\u001b[47m\u001b[30m\u001b[47m`spec()`\u001b[47m\u001b[30m\u001b[49m\u001b[39m for the full column specifications.\n",
      "\n",
      "\n"
     ]
    },
    {
     "name": "stdout",
     "output_type": "stream",
     "text": [
      "Rows: 338\n",
      "Columns: 45\n",
      "$ X1                           \u001b[3m\u001b[90m<dbl>\u001b[39m\u001b[23m 0, 1, 2, 3, 4, 5, 6, 7, 8, 9, 10, 11, 12,…\n",
      "$ SCHOOL_NUMBER                \u001b[3m\u001b[90m<dbl>\u001b[39m\u001b[23m 502001, 505033, 505034, 505035, 596715, 6…\n",
      "$ SCHOOL_YEAR                  \u001b[3m\u001b[90m<chr>\u001b[39m\u001b[23m \"2018/2019\", \"2018/2019\", \"2018/2019\", \"2…\n",
      "$ DATA_LEVEL                   \u001b[3m\u001b[90m<chr>\u001b[39m\u001b[23m \"School Level\", \"School Level\", \"School L…\n",
      "$ DISTRICT_NUMBER              \u001b[3m\u001b[90m<dbl>\u001b[39m\u001b[23m 5, 5, 5, 5, NA, 6, 6, 6, 8, 8, 8, 8, 10, …\n",
      "$ DISTRICT_NAME                \u001b[3m\u001b[90m<chr>\u001b[39m\u001b[23m \"Southeast Kootenay\", \"Southeast Kootenay…\n",
      "$ SCHOOL_NAME                  \u001b[3m\u001b[90m<chr>\u001b[39m\u001b[23m \"Mount Baker Secondary\", \"Elkford Element…\n",
      "$ FACILITY_TYPE                \u001b[3m\u001b[90m<chr>\u001b[39m\u001b[23m \"All Facility Types\", \"All Facility Types…\n",
      "$ SUBJECT_CATEGORY             \u001b[3m\u001b[90m<chr>\u001b[39m\u001b[23m \"LANGUAGE ARTS\", \"LANGUAGE ARTS\", \"LANGUA…\n",
      "$ EXAM_SUBJECT                 \u001b[3m\u001b[90m<chr>\u001b[39m\u001b[23m \"ENGLISH 12\", \"ENGLISH 12\", \"ENGLISH 12\",…\n",
      "$ COURSE_CODE                  \u001b[3m\u001b[90m<chr>\u001b[39m\u001b[23m \"EN_12_C\", \"EN_12_C\", \"EN_12_C\", \"EN_12_C…\n",
      "$ GRADE                        \u001b[3m\u001b[90m<dbl>\u001b[39m\u001b[23m 12, 12, 12, 12, 12, 12, 12, 12, 12, 12, 1…\n",
      "$ SUB_POPULATION               \u001b[3m\u001b[90m<chr>\u001b[39m\u001b[23m \"All Students\", \"All Students\", \"All Stud…\n",
      "$ REQUIRED_OR_OPTIONAL         \u001b[3m\u001b[90m<chr>\u001b[39m\u001b[23m \"Required\", \"Required\", \"Required\", \"Requ…\n",
      "$ MARK_TYPE                    \u001b[3m\u001b[90m<chr>\u001b[39m\u001b[23m \"Exam Marks\", \"Exam Marks\", \"Exam Marks\",…\n",
      "$ NUMBER_OF_MARKS              \u001b[3m\u001b[90m<dbl>\u001b[39m\u001b[23m 197, 31, 43, 35, 17, 55, 60, 45, 106, 37,…\n",
      "$ AVERAGE_PERCENT              \u001b[3m\u001b[90m<dbl>\u001b[39m\u001b[23m 69.8, 63.9, 67.9, 64.9, 77.5, 69.8, 70.3,…\n",
      "$ SUM_OF_MARKS                 \u001b[3m\u001b[90m<dbl>\u001b[39m\u001b[23m 13750, 1982, 2921, 2271, 1317, 3837, 4217…\n",
      "$ NUMBER_OF_C_MINUS_OR_BETTER  \u001b[3m\u001b[90m<chr>\u001b[39m\u001b[23m \"194\", \"29\", \"41\", \"32\", \"17\", \"53\", \"58\"…\n",
      "$ PERCENT_OF_C_MINUS_OR_BETTER \u001b[3m\u001b[90m<chr>\u001b[39m\u001b[23m \"98\", \"94\", \"95\", \"91\", \"100\", \"96\", \"97\"…\n",
      "$ NUMBER_OF_A                  \u001b[3m\u001b[90m<chr>\u001b[39m\u001b[23m \"Msk\", \"Msk\", \"Msk\", \"Msk\", \"Msk\", \"Msk\",…\n",
      "$ PERCENT_OF_A                 \u001b[3m\u001b[90m<chr>\u001b[39m\u001b[23m \"Msk\", \"Msk\", \"Msk\", \"Msk\", \"Msk\", \"Msk\",…\n",
      "$ NUMBER_OF_B                  \u001b[3m\u001b[90m<chr>\u001b[39m\u001b[23m \"68\", \"Msk\", \"Msk\", \"Msk\", \"10\", \"21\", \"M…\n",
      "$ PERCENT_OF_B                 \u001b[3m\u001b[90m<chr>\u001b[39m\u001b[23m \"35\", \"Msk\", \"Msk\", \"Msk\", \"59\", \"38\", \"M…\n",
      "$ NUMBER_OF_C_PLUS             \u001b[3m\u001b[90m<chr>\u001b[39m\u001b[23m \"51\", \"Msk\", \"11\", \"Msk\", \"Msk\", \"15\", \"1…\n",
      "$ PERCENT_OF_C_PLUS            \u001b[3m\u001b[90m<chr>\u001b[39m\u001b[23m \"26\", \"Msk\", \"26\", \"Msk\", \"Msk\", \"27\", \"3…\n",
      "$ NUMBER_OF_C                  \u001b[3m\u001b[90m<chr>\u001b[39m\u001b[23m \"46\", \"Msk\", \"Msk\", \"Msk\", \"Msk\", \"12\", \"…\n",
      "$ PERCENT_OF_C                 \u001b[3m\u001b[90m<chr>\u001b[39m\u001b[23m \"23\", \"Msk\", \"Msk\", \"Msk\", \"Msk\", \"22\", \"…\n",
      "$ NUMBER_OF_C_MINUS            \u001b[3m\u001b[90m<chr>\u001b[39m\u001b[23m \"20\", \"Msk\", \"Msk\", \"Msk\", \"Msk\", \"Msk\", …\n",
      "$ PERCENT_OF_C_MINUS           \u001b[3m\u001b[90m<chr>\u001b[39m\u001b[23m \"10\", \"Msk\", \"Msk\", \"Msk\", \"Msk\", \"Msk\", …\n",
      "$ NUMBER_OF_F                  \u001b[3m\u001b[90m<chr>\u001b[39m\u001b[23m \"Msk\", \"Msk\", \"Msk\", \"Msk\", \"Msk\", \"Msk\",…\n",
      "$ PERCENT_OF_F                 \u001b[3m\u001b[90m<chr>\u001b[39m\u001b[23m \"Msk\", \"Msk\", \"Msk\", \"Msk\", \"Msk\", \"Msk\",…\n",
      "$ SCHOOL_LATITUDE              \u001b[3m\u001b[90m<dbl>\u001b[39m\u001b[23m 49.51268, 50.00684, 49.51359, 49.73573, 4…\n",
      "$ SCHOOL_LONGITUDE             \u001b[3m\u001b[90m<dbl>\u001b[39m\u001b[23m -115.7608, -114.9306, -115.0531, -114.891…\n",
      "$ `type_BC Public School`      \u001b[3m\u001b[90m<dbl>\u001b[39m\u001b[23m 1, 1, 1, 1, 0, 1, 1, 1, 1, 1, 1, 1, 1, 1,…\n",
      "$ geometry                     \u001b[3m\u001b[90m<chr>\u001b[39m\u001b[23m \"POINT (-115.7608426 49.51267668)\", \"POIN…\n",
      "$ combined_25_5                \u001b[3m\u001b[90m<dbl>\u001b[39m\u001b[23m 0.038649593, 0.062500000, 0.030710173, 0.…\n",
      "$ combined_50_10               \u001b[3m\u001b[90m<dbl>\u001b[39m\u001b[23m 0.7096624, 0.9232955, 0.9673704, 0.795144…\n",
      "$ combined_5_1                 \u001b[3m\u001b[90m<dbl>\u001b[39m\u001b[23m 0.1301513388, 0.0056818182, 0.0000000000,…\n",
      "$ combined_10_2                \u001b[3m\u001b[90m<dbl>\u001b[39m\u001b[23m 0.0146682189, 0.0000000000, 0.0000000000,…\n",
      "$ `combined_<5_1`              \u001b[3m\u001b[90m<dbl>\u001b[39m\u001b[23m 0.092200233, 0.000000000, 0.000000000, 0.…\n",
      "$ prop_high_speed              \u001b[3m\u001b[90m<dbl>\u001b[39m\u001b[23m 0.7483120, 0.9857955, 0.9980806, 0.921092…\n",
      "$ CENSUS_ID                    \u001b[3m\u001b[90m<dbl>\u001b[39m\u001b[23m 5901022, 5901003, 5901012, 5901006, 59010…\n",
      "$ MEDIAN_INCOME                \u001b[3m\u001b[90m<dbl>\u001b[39m\u001b[23m 67942, 110379, 90112, 103538, 90112, 6707…\n",
      "$ LOG_MEDIAN_INCOME            \u001b[3m\u001b[90m<dbl>\u001b[39m\u001b[23m 11.12641, 11.61168, 11.40881, 11.54769, 1…\n"
     ]
    }
   ],
   "source": [
    "data_secondary <- read_csv(\"temp1.csv\")\n",
    "glimpse(data_secondary)"
   ]
  },
  {
   "cell_type": "code",
   "execution_count": 27,
   "id": "01d53f04-3dc9-4103-8b4c-03438559d744",
   "metadata": {},
   "outputs": [
    {
     "data": {
      "text/plain": [
       "\n",
       "Call:\n",
       "lm(formula = AVERAGE_PERCENT ~ prop_high_speed, data = data_secondary)\n",
       "\n",
       "Residuals:\n",
       "    Min      1Q  Median      3Q     Max \n",
       "-31.029  -2.501   0.327   2.999  14.899 \n",
       "\n",
       "Coefficients:\n",
       "                Estimate Std. Error t value Pr(>|t|)    \n",
       "(Intercept)       59.928      2.149  27.884  < 2e-16 ***\n",
       "prop_high_speed   10.673      2.300   4.641 4.98e-06 ***\n",
       "---\n",
       "Signif. codes:  0 ‘***’ 0.001 ‘**’ 0.01 ‘*’ 0.05 ‘.’ 0.1 ‘ ’ 1\n",
       "\n",
       "Residual standard error: 5.803 on 336 degrees of freedom\n",
       "Multiple R-squared:  0.06023,\tAdjusted R-squared:  0.05744 \n",
       "F-statistic: 21.54 on 1 and 336 DF,  p-value: 4.985e-06\n"
      ]
     },
     "metadata": {},
     "output_type": "display_data"
    },
    {
     "data": {
      "text/plain": [
       "\n",
       "t test of coefficients:\n",
       "\n",
       "                Estimate Std. Error t value  Pr(>|t|)    \n",
       "(Intercept)      59.9279     1.7382 34.4764 < 2.2e-16 ***\n",
       "prop_high_speed  10.6730     1.9180  5.5646 5.376e-08 ***\n",
       "---\n",
       "Signif. codes:  0 ‘***’ 0.001 ‘**’ 0.01 ‘*’ 0.05 ‘.’ 0.1 ‘ ’ 1\n"
      ]
     },
     "metadata": {},
     "output_type": "display_data"
    }
   ],
   "source": [
    "model_high_speed = lm(data = data_secondary, AVERAGE_PERCENT ~ prop_high_speed)\n",
    "summary(model_high_speed)\n",
    "coeftest(model_high_speed, vcov = vcovHC(model_high_speed, type = \"HC1\"))"
   ]
  },
  {
   "cell_type": "code",
   "execution_count": 28,
   "id": "e25410b1-95fd-47c3-91a2-6f8a01510c5c",
   "metadata": {},
   "outputs": [
    {
     "data": {
      "text/plain": [
       "\n",
       "Call:\n",
       "lm(formula = AVERAGE_PERCENT ~ prop_high_speed + `type_BC Public School`, \n",
       "    data = data_secondary)\n",
       "\n",
       "Residuals:\n",
       "    Min      1Q  Median      3Q     Max \n",
       "-33.537  -2.222   0.731   3.250  12.405 \n",
       "\n",
       "Coefficients:\n",
       "                        Estimate Std. Error t value Pr(>|t|)    \n",
       "(Intercept)              64.4815     2.2640  28.481  < 2e-16 ***\n",
       "prop_high_speed           8.6130     2.2583   3.814 0.000163 ***\n",
       "`type_BC Public School`  -3.5678     0.7089  -5.033  7.9e-07 ***\n",
       "---\n",
       "Signif. codes:  0 ‘***’ 0.001 ‘**’ 0.01 ‘*’ 0.05 ‘.’ 0.1 ‘ ’ 1\n",
       "\n",
       "Residual standard error: 5.604 on 335 degrees of freedom\n",
       "Multiple R-squared:  0.1263,\tAdjusted R-squared:  0.1211 \n",
       "F-statistic: 24.21 on 2 and 335 DF,  p-value: 1.508e-10\n"
      ]
     },
     "metadata": {},
     "output_type": "display_data"
    },
    {
     "data": {
      "text/plain": [
       "\n",
       "t test of coefficients:\n",
       "\n",
       "                        Estimate Std. Error t value  Pr(>|t|)    \n",
       "(Intercept)             64.48154    1.89718 33.9881 < 2.2e-16 ***\n",
       "prop_high_speed          8.61298    1.86413  4.6204 5.472e-06 ***\n",
       "`type_BC Public School` -3.56784    0.88768 -4.0193 7.215e-05 ***\n",
       "---\n",
       "Signif. codes:  0 ‘***’ 0.001 ‘**’ 0.01 ‘*’ 0.05 ‘.’ 0.1 ‘ ’ 1\n"
      ]
     },
     "metadata": {},
     "output_type": "display_data"
    }
   ],
   "source": [
    "model_high_speed_public = lm(data = data_secondary, AVERAGE_PERCENT ~ prop_high_speed + `type_BC Public School`)\n",
    "summary(model_high_speed_public)\n",
    "coeftest(model_high_speed_public, vcov = vcovHC(model_high_speed_public, type = \"HC1\"))"
   ]
  },
  {
   "cell_type": "code",
   "execution_count": 29,
   "id": "08497af9-631c-4c07-9aad-1eaf7cae6026",
   "metadata": {},
   "outputs": [
    {
     "data": {
      "text/plain": [
       "\n",
       "Call:\n",
       "lm(formula = AVERAGE_PERCENT ~ prop_high_speed + `type_BC Public School` + \n",
       "    LOG_MEDIAN_INCOME, data = data_secondary)\n",
       "\n",
       "Residuals:\n",
       "    Min      1Q  Median      3Q     Max \n",
       "-33.539  -2.198   0.711   3.280  12.393 \n",
       "\n",
       "Coefficients:\n",
       "                        Estimate Std. Error t value Pr(>|t|)    \n",
       "(Intercept)              61.8013    19.8287   3.117 0.001987 ** \n",
       "prop_high_speed           8.5049     2.3970   3.548 0.000443 ***\n",
       "`type_BC Public School`  -3.5680     0.7099  -5.026 8.19e-07 ***\n",
       "LOG_MEDIAN_INCOME         0.2487     1.8282   0.136 0.891856    \n",
       "---\n",
       "Signif. codes:  0 ‘***’ 0.001 ‘**’ 0.01 ‘*’ 0.05 ‘.’ 0.1 ‘ ’ 1\n",
       "\n",
       "Residual standard error: 5.612 on 334 degrees of freedom\n",
       "Multiple R-squared:  0.1263,\tAdjusted R-squared:  0.1185 \n",
       "F-statistic:  16.1 on 3 and 334 DF,  p-value: 8.472e-10\n"
      ]
     },
     "metadata": {},
     "output_type": "display_data"
    },
    {
     "data": {
      "text/plain": [
       "\n",
       "t test of coefficients:\n",
       "\n",
       "                        Estimate Std. Error t value  Pr(>|t|)    \n",
       "(Intercept)             61.80135   17.40368  3.5511 0.0004388 ***\n",
       "prop_high_speed          8.50492    2.09696  4.0558 6.223e-05 ***\n",
       "`type_BC Public School` -3.56799    0.88851 -4.0157 7.325e-05 ***\n",
       "LOG_MEDIAN_INCOME        0.24874    1.61798  0.1537 0.8779123    \n",
       "---\n",
       "Signif. codes:  0 ‘***’ 0.001 ‘**’ 0.01 ‘*’ 0.05 ‘.’ 0.1 ‘ ’ 1\n"
      ]
     },
     "metadata": {},
     "output_type": "display_data"
    }
   ],
   "source": [
    "model_high_speed_public_income = lm(data = data_secondary, AVERAGE_PERCENT ~ prop_high_speed + `type_BC Public School` + LOG_MEDIAN_INCOME)\n",
    "summary(model_high_speed_public_income)\n",
    "coeftest(model_high_speed_public_income, vcov = vcovHC(model_high_speed_public_income, type = \"HC1\"))"
   ]
  },
  {
   "cell_type": "code",
   "execution_count": null,
   "id": "f6d81837-0fe7-4b11-8ace-8401166fcb7d",
   "metadata": {},
   "outputs": [],
   "source": []
  }
 ],
 "metadata": {
  "interpreter": {
   "hash": "f3419382c1d430ec0df1c719905c8608a336b8576e75f41c3413f7b374b28142"
  },
  "kernelspec": {
   "display_name": "R",
   "language": "python",
   "name": "python3"
  },
  "language_info": {
   "codemirror_mode": "r",
   "file_extension": ".r",
   "mimetype": "text/x-r-source",
   "name": "python",
   "pygments_lexer": "r",
   "version": "3.9.7"
  }
 },
 "nbformat": 4,
 "nbformat_minor": 5
}
