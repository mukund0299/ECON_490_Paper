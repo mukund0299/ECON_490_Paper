{
 "cells": [
  {
   "cell_type": "code",
   "execution_count": 1,
   "metadata": {},
   "outputs": [],
   "source": [
    "import pandas as pd"
   ]
  },
  {
   "cell_type": "code",
   "execution_count": 3,
   "metadata": {},
   "outputs": [
    {
     "data": {
      "text/plain": [
       "Index(['YEAR', 'PUMFID', 'PERSONID', 'FWEIGHT', 'PROV', 'USZGAP', 'MBMREGP',\n",
       "       'AGEGP', 'SEX', 'MARST',\n",
       "       ...\n",
       "       'DWLTYP', 'DWTENR', 'REPA', 'SUIT', 'MORTG', 'MORTGM', 'CONDMP',\n",
       "       'RENTM', 'CHNEED', 'VERDATE'],\n",
       "      dtype='object', length=194)"
      ]
     },
     "execution_count": 3,
     "metadata": {},
     "output_type": "execute_result"
    }
   ],
   "source": [
    "census_data = pd.read_csv(\"raw/CIS2017.tab\", sep=\"\\t\", header=0)\n",
    "census_data.columns"
   ]
  }
 ],
 "metadata": {
  "interpreter": {
   "hash": "f3419382c1d430ec0df1c719905c8608a336b8576e75f41c3413f7b374b28142"
  },
  "kernelspec": {
   "display_name": "Python 3.8.8 64-bit ('base': conda)",
   "language": "python",
   "name": "python3"
  },
  "language_info": {
   "codemirror_mode": {
    "name": "ipython",
    "version": 3
   },
   "file_extension": ".py",
   "mimetype": "text/x-python",
   "name": "python",
   "nbconvert_exporter": "python",
   "pygments_lexer": "ipython3",
   "version": "3.8.8"
  },
  "orig_nbformat": 4
 },
 "nbformat": 4,
 "nbformat_minor": 2
}
