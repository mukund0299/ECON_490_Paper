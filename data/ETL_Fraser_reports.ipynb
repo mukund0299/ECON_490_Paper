{
 "cells": [
  {
   "cell_type": "code",
   "execution_count": 7,
   "id": "50e364ee-917c-4442-bc82-700fe2877139",
   "metadata": {},
   "outputs": [],
   "source": [
    "import re\n",
    "import csv"
   ]
  },
  {
   "cell_type": "code",
   "execution_count": 8,
   "id": "734a208a-1444-4907-ac0e-86be3c4ca531",
   "metadata": {},
   "outputs": [],
   "source": [
    "f = open(\"raw/school_report_raw.txt\", \"r\")\n",
    "text = f.read()\n",
    "school_blocks = text.split(\"\\n\\n\")"
   ]
  },
  {
   "cell_type": "code",
   "execution_count": 9,
   "id": "a1b35a7c-9da3-4aa7-b202-05d8825c3f8d",
   "metadata": {},
   "outputs": [],
   "source": [
    "def process_one_school(school):\n",
    "    assert(len(school) == 14)\n",
    "    name_and_type = re.findall(r\"(.+)(Public|Independent)\", school[0])[0]\n",
    "    name = name_and_type[0].strip()\n",
    "    school_type = name_and_type[1]\n",
    "    \n",
    "    city_and_enrolment = re.findall(r\"(.+)(Gr 12 enrolment: (\\d+))\", school[1])[0]\n",
    "    city = city_and_enrolment[0].strip()\n",
    "    enrolment = city_and_enrolment[1]\n",
    "    \n",
    "    esl, special_needs, french_imm = re.findall(r\"(\\d+\\.?\\d*|n\\/a)+\", school[2])\n",
    "    average_exam_marks = re.findall(r\"(\\d+\\.?\\d*|n\\/a)+\", school[6])\n",
    "    percent_exams_failed = re.findall(r\"(\\d+\\.?\\d*|n\\/a)+\", school[7])\n",
    "    grad_rate = re.findall(r\"(\\d+\\.?\\d*|n\\/a)+\", school[11])\n",
    "    delayed_rate = re.findall(r\"(\\d+\\.?\\d*|n\\/a)+\", school[12])\n",
    "    \n",
    "    overall_rating_group = re.findall(r\"(Overall rating out of 10)? (\\d+\\.?\\d*|n\\/a)+\", school[13])\n",
    "    overall_rating = list(map(lambda rating_group: rating_group[1], overall_rating_group))\n",
    "    \n",
    "    records = []\n",
    "    for i in range(2015, 2020):\n",
    "        index = i - 2015\n",
    "        records.append((name, school_type, i, city, enrolment, esl, special_needs, \n",
    "                       french_imm, average_exam_marks[index], percent_exams_failed[index],\n",
    "                       grad_rate[index], delayed_rate[index], overall_rating[index]))\n",
    "    \n",
    "    return records"
   ]
  },
  {
   "cell_type": "code",
   "execution_count": 10,
   "id": "91bfc2a9-2a1c-4f4b-a2dd-45155b81f794",
   "metadata": {},
   "outputs": [
    {
     "name": "stdout",
     "output_type": "stream",
     "text": [
      "['Kelowna Christian Independent']\n"
     ]
    }
   ],
   "source": [
    "processed = []\n",
    "failed = []\n",
    "\n",
    "for school in school_blocks:\n",
    "    try:\n",
    "        records = process_one_school(school.split(\"\\n\"))\n",
    "        processed = processed + records\n",
    "    except:\n",
    "        failed.append(school.split(\"\\n\")[0])\n",
    "\n",
    "print(failed)\n",
    "assert(len(failed) == 1) # Should be Kelowna Christian -- has no Gr 12 enrolment number"
   ]
  },
  {
   "cell_type": "code",
   "execution_count": 11,
   "id": "da88f1be-8f2a-412f-83ea-6bb17682a9d3",
   "metadata": {},
   "outputs": [],
   "source": [
    "with open(\"processed_school_reports\", \"w\") as out:\n",
    "    csv_out = csv.writer(out)\n",
    "    csv_out.writerow([\"SCHOOL_NAME\", \"SCHOOL_TYPE\", \"YEAR\", \"LOCATION\", \"ENROLMENT\", \"PERCENT_ESL\", \"PERCENT_SPECIAL_NEEDS\", \"PERCENT_FRENCH_IMM\",\n",
    "                      \"AVERAGE_EXAM_MARK\", \"PERCENT_EXAMS_FAILED\", \"PERCENT_GRAD\", \"PERCENT_DELAYED\", \"OVERALL\"])\n",
    "    for row in processed:\n",
    "        csv_out.writerow(row)"
   ]
  }
 ],
 "metadata": {
  "kernelspec": {
   "display_name": "Python 3",
   "language": "python",
   "name": "python3"
  },
  "language_info": {
   "codemirror_mode": {
    "name": "ipython",
    "version": 3
   },
   "file_extension": ".py",
   "mimetype": "text/x-python",
   "name": "python",
   "nbconvert_exporter": "python",
   "pygments_lexer": "ipython3",
   "version": "3.8.8"
  }
 },
 "nbformat": 4,
 "nbformat_minor": 5
}
