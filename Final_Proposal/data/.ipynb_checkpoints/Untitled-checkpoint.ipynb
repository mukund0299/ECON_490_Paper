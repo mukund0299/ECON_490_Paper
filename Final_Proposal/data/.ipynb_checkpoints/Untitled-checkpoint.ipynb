{
 "cells": [
  {
   "cell_type": "code",
   "execution_count": null,
   "id": "24537783-f04b-4c0b-a010-27a85bfa200f",
   "metadata": {},
   "outputs": [],
   "source": [
    "import pandas as pd\n",
    "import numpy as np\n",
    "import math\n",
    "# import geopandas as gpd"
   ]
  },
  {
   "cell_type": "code",
   "execution_count": null,
   "id": "b82e1784-bd27-4b06-9f31-ac37c9303648",
   "metadata": {},
   "outputs": [],
   "source": [
    "# https://open.canada.ca/data/en/dataset/00a331db-121b-445d-b119-35dbbe3eedd9 -- National Broadband Data\n",
    "speeds = pd.read_csv(\"PHH_Speeds_Current-PHH_Vitesses_Actuelles_BC.csv\")\n",
    "\n",
    "# Same source, map data with population information for each hex\n",
    "phh = pd.read_csv(\"PHH-BC.csv\")\n",
    "phhWithSpeeds = pd.merge(phh, speeds, on=\"PHH_ID\")\n",
    "\n",
    "# Filtering out hexes with no population\n",
    "regionsWithPop = phhWithSpeeds[phhWithSpeeds[\"Pop2016\"] > 0]"
   ]
  },
  {
   "cell_type": "code",
   "execution_count": null,
   "id": "36dab6a7-32a3-40c2-88e9-3c9b8f904bde",
   "metadata": {},
   "outputs": [],
   "source": [
    "#https://catalogue.data.gov.bc.ca/dataset/bc-schools-k-12-with-francophone-indicators\n",
    "schools = pd.read_csv(\"allschools_databc_20201027-fewer-columns.csv\")\n",
    "\n",
    "# Strip whitespace, map school type to match processed rows\n",
    "schools[\"PHYSICAL_ADDRESS_CITY\"] = schools[\"PHYSICAL_ADDRESS_CITY\"].str.strip()\n",
    "schools[\"PUBLIC_OR_INDEPENDENT\"] = np.where(schools[\"PUBLIC_OR_INDEPENDENT\"].str.contains(\"Public School\"), \"Public\", \"Independent\")\n",
    "\n",
    "\n",
    "# We are only looking at secondary schools\n",
    "secondary_schools = schools[schools[\"SCHOOL_EDUCATION_LEVEL\"].str.contains(\"SECONDARY\")]\n",
    "\n",
    "# Ignore non standard school types\n",
    "standard_secondary = secondary_schools[secondary_schools[\"FACILTY_TYPE\"].str.contains(\"Standard School\")]\n",
    "\n",
    "# Remove francophone districts\n",
    "anglo_standard_secondary = standard_secondary[~standard_secondary[\"DISTRICT_NAME\"].str.contains(\"Conseil scolaire francophone\")]\n"
   ]
  },
  {
   "cell_type": "code",
   "execution_count": null,
   "id": "3e01d8f3-8046-4323-b187-36636abd5d0a",
   "metadata": {},
   "outputs": [],
   "source": [
    "# districtInfo = pd.read_csv(\"current_district_office_information.csv\")\n",
    "\n",
    "# regionToDistrict = pd.DataFrame()\n",
    "\n",
    "# # def euclidean_dist_squared(X, Xtest):\n",
    "# #     X_norms_sq = np.sum(X ** 2, axis=1)\n",
    "# #     Xtest_norms_sq = np.sum(Xtest ** 2, axis=1)\n",
    "# #     dots = X @ Xtest.T\n",
    "\n",
    "# #     return X_norms_sq[:, np.newaxis] + Xtest_norms_sq[np.newaxis, :] - 2 * dots\n",
    "\n",
    "# # regionLatLong = regionsWithPop[[\"Latitude\", \"Longitude\"]]\n",
    "# # districtLatLongRenamed = districtInfo[[\"X\", \"Y\"]].rename(columns={\"X\": \"Longitude\", \"Y\": \"Latitude\"})\n",
    "# # districtLatLong = districtLatLongRenamed[\"Latitude\"] + districtLatLongRenamed[\"Longitude\"]\n",
    "\n",
    "# # distances = euclidean_dist_squared(regionLatLong.to_numpy(), districtLatLong.to_numpy())\n",
    "# # distances.head()\n",
    "\n",
    "\n",
    "# for index, region in regionsWithPop.iterrows():\n",
    "#     closestDist = None\n",
    "#     closestDistNum = None\n",
    "#     for distIndex, district in districtInfo.iterrows():\n",
    "#         distance = math.sqrt((district[\"Y\"] - region[\"Latitude\"]) ** 2 + (district[\"X\"] - region[\"Longitude\"]) ** 2)\n",
    "#         if (closestDist is None or distance < closestDist):\n",
    "#             closestDist = distance\n",
    "#             closestDistNum = district[\"DISTRICT_NUMBER\"]\n",
    "#     regionToDistrict.append(pd.merge(regionsWithPop[regionsWithPop[\"PHH_ID\"] == region[\"PHH_ID\"]], district[district[\"DISTRICT_NUMBER\"] == closestDistNum]))\n",
    "    \n",
    "\n",
    "# regionToDistrict.head()\n",
    "     \n",
    "    "
   ]
  },
  {
   "cell_type": "code",
   "execution_count": null,
   "id": "7759885c-910f-4611-b647-72db04238064",
   "metadata": {},
   "outputs": [],
   "source": []
  }
 ],
 "metadata": {
  "kernelspec": {
   "display_name": "Python 3",
   "language": "python",
   "name": "python3"
  },
  "language_info": {
   "codemirror_mode": {
    "name": "ipython",
    "version": 3
   },
   "file_extension": ".py",
   "mimetype": "text/x-python",
   "name": "python",
   "nbconvert_exporter": "python",
   "pygments_lexer": "ipython3",
   "version": "3.8.8"
  }
 },
 "nbformat": 4,
 "nbformat_minor": 5
}
